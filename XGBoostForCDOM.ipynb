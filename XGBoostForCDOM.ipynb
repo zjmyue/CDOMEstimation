{
 "cells": [
  {
   "cell_type": "markdown",
   "metadata": {},
   "source": [
    "# Import package library and global parameter settings"
   ]
  },
  {
   "cell_type": "code",
   "execution_count": 1,
   "metadata": {
    "ExecuteTime": {
     "end_time": "2021-10-17T14:16:04.582896Z",
     "start_time": "2021-10-17T14:16:02.542352Z"
    }
   },
   "outputs": [],
   "source": [
    "import os\n",
    "import pandas as pd\n",
    "import math\n",
    "import matplotlib.pyplot as plt\n",
    "import seaborn as sns\n",
    "import scipy.stats\n",
    "import warnings\n",
    "warnings.filterwarnings('ignore')"
   ]
  },
  {
   "cell_type": "code",
   "execution_count": 1,
   "metadata": {
    "ExecuteTime": {
     "end_time": "2021-10-17T14:16:05.382757Z",
     "start_time": "2021-10-17T14:16:04.617804Z"
    }
   },
   "outputs": [],
   "source": [
    "import xgboost as xgb \n",
    "from xgboost.sklearn import XGBClassifier\n",
    "from sklearn.model_selection import KFold, train_test_split, GridSearchCV"
   ]
  },
  {
   "cell_type": "code",
   "execution_count": 3,
   "metadata": {
    "ExecuteTime": {
     "end_time": "2021-10-17T14:16:05.427637Z",
     "start_time": "2021-10-17T14:16:05.414672Z"
    }
   },
   "outputs": [],
   "source": [
    "from sklearn.metrics import mean_squared_error \n",
    "from sklearn.metrics import mean_absolute_error \n",
    "from sklearn.metrics import r2_score  #R square"
   ]
  },
  {
   "cell_type": "code",
   "execution_count": 4,
   "metadata": {
    "ExecuteTime": {
     "end_time": "2021-10-17T14:16:05.718858Z",
     "start_time": "2021-10-17T14:16:05.702915Z"
    }
   },
   "outputs": [],
   "source": [
    "plt.rcParams['font.sans-serif'] = ['Times New Roman']\n",
    "plt.rcParams['axes.unicode_minus'] = False"
   ]
  },
  {
   "cell_type": "code",
   "execution_count": 5,
   "metadata": {
    "ExecuteTime": {
     "end_time": "2021-10-18T02:52:47.577724Z",
     "start_time": "2021-10-18T02:52:47.555813Z"
    }
   },
   "outputs": [],
   "source": [
    "dir_open = r'D:\\DoctoralThesis\\CorrForScattAna'\n",
    "dir_write = dir_open"
   ]
  },
  {
   "cell_type": "markdown",
   "metadata": {},
   "source": [
    "# 1 Reading in parameters and setting them"
   ]
  },
  {
   "cell_type": "code",
   "execution_count": 7,
   "metadata": {
    "ExecuteTime": {
     "end_time": "2021-09-24T14:49:46.714984Z",
     "start_time": "2021-09-24T14:49:46.655173Z"
    }
   },
   "outputs": [],
   "source": [
    "if __name__ == '__main__':\n",
    "    GDCalCDOM = pd.read_excel(os.path.join(dir_open,\"CDOM(88Points)MachineLearningModelCalibration.xlsx\"),index_col ='Wavelength')\n",
    "    GDValCDOM = pd.read_excel(os.path.join(dir_open,\"CDOM(88Points)MachineLearningModelValidation.xlsx\"),index_col ='Wavelength')\n",
    "    lenSelectedBandNumCDOM = len(GDCalCDOM.columns)-1\n",
    "    lenCalSampPointsNumCDOM = len(GDCalCDOM.index)\n",
    "    lenValSampPointsNumCDOM = len(GDValCDOM.index)\n",
    "    \n",
    "    cal_data_inputs_CDOM = np.array(GDCalCDOM.iloc[:,0:lenSelectedBandNumCDOM]).reshape(lenCalSampPointsNumCDOM,lenSelectedBandNumCDOM) \n",
    "    val_data_inputs_CDOM = np.array(GDValCDOM.iloc[:,0:lenSelectedBandNumCDOM]).reshape(lenValSampPointsNumCDOM,lenSelectedBandNumCDOM)\n",
    "    cal_data_outputs_CDOM = np.array(GDCalCDOM['CDOM']).reshape(lenCalSampPointsNumCDOM,1)\n",
    "    val_data_outputs_CDOM = np.array(GDValCDOM['CDOM']).reshape(lenValSampPointsNumCDOM,1)\n",
    "        \n",
    "    xgb_CDOM_params = {'learning_rate': 0.3, 'n_estimators': 50, 'max_depth': 6, 'min_child_weight': 2,\n",
    "                      'subsample':0.75, 'colsample_bytree': 0.96, 'gamma': 0.03, 'reg_alpha':0.2, 'reg_lambda': 2}  \n",
    "\n",
    "    regCDOM = xgb.XGBRegressor(**xgb_CDOM_params) "
   ]
  },
  {
   "cell_type": "markdown",
   "metadata": {},
   "source": [
    "# GridSearchCV"
   ]
  },
  {
   "cell_type": "code",
   "execution_count": null,
   "metadata": {},
   "outputs": [],
   "source": [
    "    cv_params = {'n_estimators': np.linspace(10,500,50,dtype=int)}\n",
    "\n",
    "    other_params = {'learning_rate': 0.2, 'n_estimators': 50, 'max_depth': 6, 'min_child_weight': 2, 'seed': 0,\n",
    "                    'subsample': 0.2, 'colsample_bytree': 0.9, 'gamma': 0.01, 'reg_alpha': 7, 'reg_lambda': 4} \n",
    "\n",
    "    model = xgb.XGBRegressor(**other_params)  \n",
    "    \n",
    "    optimized_GBM = GridSearchCV(estimator=model, param_grid=cv_params, scoring='neg_mean_absolute_error', refit = True, cv=5, verbose=1, n_jobs=4)\n",
    "    optimized_GBM.fit(cal_data_inputs_CDOM, cal_data_outputs_CDOM)\n",
    "\n",
    "    evalute_result = optimized_GBM.cv_results_\n",
    "    \n",
    "    evalute_params = optimized_GBM.cv_results_['params']\n",
    "    \n",
    "    print('每轮迭代运行结果:{0}'.format(evalute_result))\n",
    "    print('参数的最佳取值：{0}'.format(optimized_GBM.best_params_))\n",
    "    print('最佳模型得分:{0}'.format(optimized_GBM.best_score_))"
   ]
  },
  {
   "cell_type": "code",
   "execution_count": null,
   "metadata": {},
   "outputs": [],
   "source": [
    "    cv_params = {'max_depth': np.linspace(2,15,14,dtype=int)}\n",
    "\n",
    "    other_params = {'learning_rate': 0.2, 'n_estimators': 490, 'max_depth': 8, 'min_child_weight': 2, 'seed': 0,\n",
    "                    'subsample': 0.2, 'colsample_bytree': 0.9, 'gamma': 0.01, 'reg_alpha': 7, 'reg_lambda': 4} \n",
    "\n",
    "    model = xgb.XGBRegressor(**other_params)  \n",
    "\n",
    "    optimized_GBM = GridSearchCV(estimator=model, param_grid=cv_params, scoring='neg_mean_absolute_error', refit = True, cv=5, verbose=1, n_jobs=4)\n",
    "    optimized_GBM.fit(cal_data_inputs_CDOM, cal_data_outputs_CDOM)\n",
    "\n",
    "    evalute_result = optimized_GBM.cv_results_\n",
    "    \n",
    "    evalute_params = optimized_GBM.cv_results_['params']\n",
    "    \n",
    "    print('每轮迭代运行结果:{0}'.format(evalute_result))\n",
    "    print('参数的最佳取值：{0}'.format(optimized_GBM.best_params_))\n",
    "    print('最佳模型得分:{0}'.format(optimized_GBM.best_score_))"
   ]
  },
  {
   "cell_type": "code",
   "execution_count": null,
   "metadata": {},
   "outputs": [],
   "source": [
    "    cv_params = {'learning_rate': np.linspace(0.01,0.30,29)}\n",
    "\n",
    "    other_params = {'learning_rate': 0.2, 'n_estimators': 490, 'max_depth': 2, 'min_child_weight': 2, 'seed': 0,\n",
    "                    'subsample': 0.2, 'colsample_bytree': 0.9, 'gamma': 0.01, 'reg_alpha': 7, 'reg_lambda': 4} \n",
    "\n",
    "    model = xgb.XGBRegressor(**other_params)  \n",
    "    \n",
    "    optimized_GBM = GridSearchCV(estimator=model, param_grid=cv_params, scoring='r2', cv=5, verbose=1, n_jobs=4) \n",
    "    optimized_GBM.fit(cal_data_inputs_CDOM, cal_data_outputs_CDOM)\n",
    "\n",
    "    evalute_result = optimized_GBM.cv_results_\n",
    "    \n",
    "    evalute_params = optimized_GBM.cv_results_['params']\n",
    "    \n",
    "    print('每轮迭代运行结果:{0}'.format(evalute_result))\n",
    "    print('参数的最佳取值：{0}'.format(optimized_GBM.best_params_))\n",
    "    print('最佳模型得分:{0}'.format(optimized_GBM.best_score_))"
   ]
  },
  {
   "cell_type": "code",
   "execution_count": null,
   "metadata": {},
   "outputs": [],
   "source": [
    "    cv_params = {'min_child_weight': np.linspace(0,20,21, dtype=int)}\n",
    "\n",
    "    other_params = {'learning_rate': 0.10, 'n_estimators': 490, 'max_depth': 2, 'min_child_weight': 2, 'seed': 0,\n",
    "                    'subsample': 0.2, 'colsample_bytree': 0.9, 'gamma': 0.01, 'reg_alpha': 7, 'reg_lambda': 4} \n",
    "\n",
    "    model = xgb.XGBRegressor(**other_params)  \n",
    "    \n",
    "    optimized_GBM = GridSearchCV(estimator=model, param_grid=cv_params, scoring='r2', cv=5, verbose=1, n_jobs=4) \n",
    "    optimized_GBM.fit(cal_data_inputs_CDOM, cal_data_outputs_CDOM)\n",
    "\n",
    "    evalute_result = optimized_GBM.cv_results_\n",
    "    evalute_params = optimized_GBM.cv_results_['params']\n",
    "    \n",
    "    print('每轮迭代运行结果:{0}'.format(evalute_result))\n",
    "    print('参数的最佳取值：{0}'.format(optimized_GBM.best_params_))\n",
    "    print('最佳模型得分:{0}'.format(optimized_GBM.best_score_))"
   ]
  },
  {
   "cell_type": "code",
   "execution_count": null,
   "metadata": {},
   "outputs": [],
   "source": [
    "    cv_params = {'subsample': np.linspace(0.01,1,100)}\n",
    "\n",
    "    other_params =  {'learning_rate': 0.10, 'n_estimators': 490, 'max_depth': 2, 'min_child_weight': 18, 'seed': 0,\n",
    "                    'subsample': 0.2, 'colsample_bytree': 0.9, 'gamma': 0.01, 'reg_alpha': 7, 'reg_lambda': 4} \n",
    "\n",
    "    model = xgb.XGBRegressor(**other_params)  \n",
    "    \n",
    "    optimized_GBM = GridSearchCV(estimator=model, param_grid=cv_params, scoring='r2', cv=5, verbose=1, n_jobs=4) \n",
    "    optimized_GBM.fit(cal_data_inputs_CDOM, cal_data_outputs_CDOM)\n",
    "\n",
    "    evalute_result = optimized_GBM.cv_results_\n",
    "    \n",
    "    evalute_params = optimized_GBM.cv_results_['params']\n",
    "    \n",
    "    print('每轮迭代运行结果:{0}'.format(evalute_result))\n",
    "    print('参数的最佳取值：{0}'.format(optimized_GBM.best_params_))\n",
    "    print('最佳模型得分:{0}'.format(optimized_GBM.best_score_))"
   ]
  },
  {
   "cell_type": "code",
   "execution_count": null,
   "metadata": {},
   "outputs": [],
   "source": [
    "    cv_params = {'colsample_bytree': np.linspace(0.01,1,100)}\n",
    "\n",
    "    other_params = {'learning_rate': 0.10, 'n_estimators': 490, 'max_depth': 2, 'min_child_weight': 18, 'seed': 0,\n",
    "                    'subsample': 0.21, 'colsample_bytree': 0.9, 'gamma': 0.01, 'reg_alpha': 7, 'reg_lambda': 4}  \n",
    "\n",
    "    model = xgb.XGBRegressor(**other_params)  \n",
    "    \n",
    "    optimized_GBM = GridSearchCV(estimator=model, param_grid=cv_params, scoring='r2', cv=5, verbose=1, n_jobs=4) \n",
    "    optimized_GBM.fit(cal_data_inputs_CDOM, cal_data_outputs_CDOM)\n",
    "\n",
    "    evalute_result = optimized_GBM.cv_results_\n",
    "    \n",
    "    evalute_params = optimized_GBM.cv_results_['params']\n",
    "    \n",
    "    print('每轮迭代运行结果:{0}'.format(evalute_result))\n",
    "    print('参数的最佳取值：{0}'.format(optimized_GBM.best_params_))\n",
    "    print('最佳模型得分:{0}'.format(optimized_GBM.best_score_))"
   ]
  },
  {
   "cell_type": "code",
   "execution_count": null,
   "metadata": {},
   "outputs": [],
   "source": [
    "    cv_params = {'gamma': np.linspace(0.01,10,1000)}\n",
    "\n",
    "    other_params = {'learning_rate': 0.10, 'n_estimators': 490, 'max_depth': 2, 'min_child_weight': 18, 'seed': 0,\n",
    "                    'subsample': 0.21, 'colsample_bytree': 1, 'gamma': 0.01, 'reg_alpha': 7, 'reg_lambda': 4}   \n",
    "\n",
    "    model = xgb.XGBRegressor(**other_params)  \n",
    "    \n",
    "    optimized_GBM = GridSearchCV(estimator=model, param_grid=cv_params, scoring='r2', cv=5, verbose=1, n_jobs=4) \n",
    "    optimized_GBM.fit(cal_data_inputs_CDOM, cal_data_outputs_CDOM)\n",
    "\n",
    "    evalute_result = optimized_GBM.cv_results_\n",
    "    evalute_params = optimized_GBM.cv_results_['params']\n",
    "    \n",
    "    print('每轮迭代运行结果:{0}'.format(evalute_result))\n",
    "    print('参数的最佳取值：{0}'.format(optimized_GBM.best_params_))\n",
    "    print('最佳模型得分:{0}'.format(optimized_GBM.best_score_))"
   ]
  },
  {
   "cell_type": "code",
   "execution_count": null,
   "metadata": {},
   "outputs": [],
   "source": [
    "    cv_params = {'reg_alpha': np.linspace(1,100,100,dtype = int)}\n",
    "\n",
    "    other_params = {'learning_rate': 0.10, 'n_estimators': 490, 'max_depth': 2, 'min_child_weight': 18, 'seed': 0,\n",
    "                    'subsample': 0.21, 'colsample_bytree': 0.9, 'gamma': 9.48, 'reg_alpha': 7, 'reg_lambda': 4}  \n",
    "    \n",
    "    model = xgb.XGBRegressor(**other_params)  \n",
    "    \n",
    "    optimized_GBM = GridSearchCV(estimator=model, param_grid=cv_params, scoring='r2', cv=5, verbose=1, n_jobs=4) \n",
    "    optimized_GBM.fit(cal_data_inputs_CDOM, cal_data_outputs_CDOM)\n",
    "\n",
    "    evalute_result = optimized_GBM.cv_results_\n",
    "    evalute_params = optimized_GBM.cv_results_['params']\n",
    "    \n",
    "    print('每轮迭代运行结果:{0}'.format(evalute_result))\n",
    "    print('参数的最佳取值：{0}'.format(optimized_GBM.best_params_))\n",
    "    print('最佳模型得分:{0}'.format(optimized_GBM.best_score_))"
   ]
  },
  {
   "cell_type": "code",
   "execution_count": null,
   "metadata": {},
   "outputs": [],
   "source": [
    "    cv_params = {'reg_lambda': np.linspace(1,100,100,dtype = int)}\n",
    "\n",
    "    other_params = {'learning_rate': 0.10, 'n_estimators': 490, 'max_depth': 2, 'min_child_weight': 18, 'seed': 0,\n",
    "                    'subsample': 0.21, 'colsample_bytree': 1, 'gamma': 9.48, 'reg_alpha': 10, 'reg_lambda': 4}  \n",
    "\n",
    "    model = xgb.XGBRegressor(**other_params)  \n",
    "  \n",
    "    optimized_GBM = GridSearchCV(estimator=model, param_grid=cv_params, scoring='r2', cv=5, verbose=1, n_jobs=4) \n",
    "    optimized_GBM.fit(cal_data_inputs_CDOM, cal_data_outputs_CDOM)\n",
    "\n",
    "    evalute_result = optimized_GBM.cv_results_\n",
    "    evalute_params = optimized_GBM.cv_results_['params']\n",
    "    \n",
    "    print('每轮迭代运行结果:{0}'.format(evalute_result))\n",
    "    print('参数的最佳取值：{0}'.format(optimized_GBM.best_params_))\n",
    "    print('最佳模型得分:{0}'.format(optimized_GBM.best_score_))"
   ]
  },
  {
   "cell_type": "markdown",
   "metadata": {},
   "source": [
    "# 2 Fit the model to the data set according to the parameters"
   ]
  },
  {
   "cell_type": "code",
   "execution_count": 8,
   "metadata": {
    "ExecuteTime": {
     "end_time": "2021-09-24T14:49:51.254074Z",
     "start_time": "2021-09-24T14:49:51.186264Z"
    }
   },
   "outputs": [
    {
     "name": "stdout",
     "output_type": "stream",
     "text": [
      "cal_data_outputs_pred_CDOM:\n",
      "[ 0.1911315   0.1563876   0.10996678  0.16152227 -0.01845949  0.18282191\n",
      "  0.06112882 -0.00214495 -0.00214495  0.06913227  0.01055832  0.09365224\n",
      "  0.27681088  0.17607619  0.29370087  0.20408258  0.32948962  0.24430504\n",
      "  0.27618     0.23051812  0.27618     0.45919403  0.24578129  0.33996105\n",
      "  0.34221643  0.40209314  0.3011628   0.5255585   0.34517327  0.4682871\n",
      "  0.4806044   0.49498102  0.4624623   0.43066365  0.6260473   0.23688197\n",
      "  0.52606434  0.49768737  0.40174678  0.5769      0.382321    0.5794816\n",
      "  0.6142673   0.6900127   0.62590337  0.65516514  0.60618526  0.61366457\n",
      "  0.6134701   0.70702285  0.7453813   0.6910338   0.64738286  0.858081\n",
      "  0.8797669   0.9823956   1.2267437   1.2267437   1.2267437 ]\n",
      "val_data_outputs_pred_CDOM:\n",
      "[0.16901094 0.19280753 0.1563876  0.08910342 0.33689418 0.2260927\n",
      " 0.26650748 0.48213384 0.26650748 0.20709357 0.306587   0.27618\n",
      " 0.24780686 0.5146739  0.45539045 0.6258922  0.27267635 0.24780686\n",
      " 0.4712203  0.6022385  0.3148733  0.40848735 0.6335365  0.81577164\n",
      " 0.61574584 0.6230253  0.75890934 1.2267437  1.2267437 ]\n"
     ]
    }
   ],
   "source": [
    "xgbCDOMModel = regCDOM.fit(cal_data_inputs_CDOM, cal_data_outputs_CDOM)\n",
    "cal_data_outputs_pred_CDOM = xgbCDOMModel.predict(cal_data_inputs_CDOM) \n",
    "val_data_outputs_pred_CDOM = xgbCDOMModel.predict(val_data_inputs_CDOM)\n",
    "print('cal_data_outputs_pred_CDOM:\\n{0}'.format(cal_data_outputs_pred_CDOM)) \n",
    "print('val_data_outputs_pred_CDOM:\\n{0}'.format(val_data_outputs_pred_CDOM)) "
   ]
  },
  {
   "cell_type": "markdown",
   "metadata": {},
   "source": [
    "# 3 Data fitting and prediction effect evaluation"
   ]
  },
  {
   "cell_type": "code",
   "execution_count": 9,
   "metadata": {
    "ExecuteTime": {
     "end_time": "2021-09-24T14:49:54.736860Z",
     "start_time": "2021-09-24T14:49:54.716913Z"
    }
   },
   "outputs": [
    {
     "name": "stdout",
     "output_type": "stream",
     "text": [
      "myCalR2_CDOM:\t0.9205833054677233\n",
      "myValR2_CDOM:\t0.7722398718997058\n",
      "myCalMSE_CDOM:\t0.00926991663647513\n",
      "myValMSE_CDOM:\t0.02555649347325737\n",
      "myCalRMSE_CDOM:\t0.09628040629575225\n",
      "myValRMSE_CDOM:\t0.1598639842905755\n",
      "myCalMAE_CDOM:\t0.07663204697033171\n",
      "myValMAE_CDOM:\t0.1292889383948831\n",
      "myCalRPD_CDOM:\t3.548494173849635\n",
      "myValRPD_CDOM:\t2.095372070289028\n"
     ]
    }
   ],
   "source": [
    "myCalR2_CDOM = r2_score(cal_data_outputs_CDOM,cal_data_outputs_pred_CDOM)\n",
    "print('myCalR2_CDOM:\\t{0}'.format(myCalR2_CDOM))\n",
    "myValR2_CDOM = r2_score(val_data_outputs_CDOM,val_data_outputs_pred_CDOM)\n",
    "print('myValR2_CDOM:\\t{0}'.format(myValR2_CDOM))\n",
    "\n",
    "myCalMSE_CDOM = mean_squared_error(cal_data_outputs_CDOM,cal_data_outputs_pred_CDOM)\n",
    "print('myCalMSE_CDOM:\\t{0}'.format(myCalMSE_CDOM)) \n",
    "myValMSE_CDOM = mean_squared_error(val_data_outputs_CDOM,val_data_outputs_pred_CDOM)\n",
    "print('myValMSE_CDOM:\\t{0}'.format(myValMSE_CDOM))\n",
    "\n",
    "myCalRMSE_CDOM = np.sqrt(mean_squared_error(cal_data_outputs_CDOM,cal_data_outputs_pred_CDOM))\n",
    "print('myCalRMSE_CDOM:\\t{0}'.format(myCalRMSE_CDOM))\n",
    "myValRMSE_CDOM = np.sqrt(mean_squared_error(val_data_outputs_CDOM,val_data_outputs_pred_CDOM))\n",
    "print('myValRMSE_CDOM:\\t{0}'.format(myValRMSE_CDOM)) \n",
    "\n",
    "myCalMAE_CDOM = mean_absolute_error(cal_data_outputs_CDOM,cal_data_outputs_pred_CDOM)\n",
    "print('myCalMAE_CDOM:\\t{0}'.format(myCalMAE_CDOM))\n",
    "myValMAE_CDOM = mean_absolute_error(val_data_outputs_CDOM,val_data_outputs_pred_CDOM)\n",
    "print('myValMAE_CDOM:\\t{0}'.format(myValMAE_CDOM)) \n",
    "\n",
    "myCalRPD_CDOM = cal_data_outputs_CDOM.std()/myCalRMSE_CDOM\n",
    "print('myCalRPD_CDOM:\\t{0}'.format(myCalRPD_CDOM))\n",
    "myValRPD_CDOM = val_data_outputs_CDOM.std()/myValRMSE_CDOM\n",
    "print('myValRPD_CDOM:\\t{0}'.format(myValRPD_CDOM))"
   ]
  },
  {
   "cell_type": "code",
   "execution_count": 10,
   "metadata": {
    "ExecuteTime": {
     "end_time": "2021-09-24T14:50:27.421041Z",
     "start_time": "2021-09-24T14:50:27.404086Z"
    }
   },
   "outputs": [
    {
     "name": "stdout",
     "output_type": "stream",
     "text": [
      "myCalK_CDOM:\t0.84\n",
      "myValK_CDOM:\t0.74\n",
      "myCalIntercept_CDOM:\t0.07\n",
      "myValIntercept_CDOM:\t0.12\n"
     ]
    }
   ],
   "source": [
    "from sklearn import linear_model\n",
    "\n",
    "regrCalCDOM = linear_model.LinearRegression()\n",
    "\n",
    "regrCalCDOM.fit(cal_data_outputs_CDOM.reshape(lenCalSampPointsNumCDOM,1),\n",
    "                   np.array(cal_data_outputs_pred_CDOM).reshape(lenCalSampPointsNumCDOM,1))\n",
    "\n",
    "regrValCDOM = linear_model.LinearRegression()\n",
    "regrValCDOM.fit(val_data_outputs_CDOM.reshape(lenValSampPointsNumCDOM,1),\n",
    "                   np.array(val_data_outputs_pred_CDOM).reshape(lenValSampPointsNumCDOM,1))\n",
    "\n",
    "myCalK_CDOM = \"%.2f\" %regrCalCDOM.coef_    \n",
    "myCalIntercept_CDOM = \"%.2f\" %regrCalCDOM.intercept_    \n",
    "myValK_CDOM = \"%.2f\" %regrValCDOM.coef_    \n",
    "myValIntercept_CDOM = \"%.2f\" %regrValCDOM.intercept_    \n",
    "\n",
    "print('myCalK_CDOM:\\t{0}'.format(myCalK_CDOM))\n",
    "print('myValK_CDOM:\\t{0}'.format(myValK_CDOM))\n",
    "print('myCalIntercept_CDOM:\\t{0}'.format(myCalIntercept_CDOM))\n",
    "print('myValIntercept_CDOM:\\t{0}'.format(myValIntercept_CDOM))"
   ]
  },
  {
   "cell_type": "markdown",
   "metadata": {},
   "source": [
    "# 4 Fitting result scatter plot output"
   ]
  },
  {
   "cell_type": "code",
   "execution_count": 12,
   "metadata": {
    "ExecuteTime": {
     "end_time": "2021-09-24T14:51:24.846748Z",
     "start_time": "2021-09-24T14:51:24.158586Z"
    }
   },
   "outputs": [
    {
     "data": {
      "image/png": "[encoded data removed]",
      "text/plain": [
       "<Figure size 432x432 with 1 Axes>"
      ]
     },
     "metadata": {},
     "output_type": "display_data"
    }
   ],
   "source": [
    "x1 = cal_data_outputs_CDOM\n",
    "y1 = cal_data_outputs_pred_CDOM\n",
    "x2 = val_data_outputs_CDOM\n",
    "y2 = val_data_outputs_pred_CDOM\n",
    "\n",
    "\n",
    "plt.figure(figsize=(6,6))\n",
    "sns.set_style(\"ticks\",{\"xtick.major.size\": 8, \"ytick.major.size\": 8}) \n",
    "\n",
    "sns.regplot(x=cal_data_outputs_CDOM,y=cal_data_outputs_pred_CDOM, marker= 'o',color='blue',scatter=True, fit_reg=True, \n",
    "            line_kws={'linestyle':'--','color':'blue'}, \n",
    "            label=\"Calibration\",truncate=True,ci=95)\n",
    "sns.regplot(x=val_data_outputs_CDOM,y=val_data_outputs_pred_CDOM, marker= 'v',color='green',\n",
    "            line_kws={'linestyle':'--','color':'green'}, \n",
    "            label=\"Validation\",truncate=True,ci=95)\n",
    "\n",
    "plt.xlim((-0.07,1.5))\n",
    "plt.ylim((-0.07,1.5))\n",
    "plt.xticks(fontproperties = 'Times New Roman',fontsize = 15)\n",
    "plt.yticks(fontproperties = 'Times New Roman',fontsize = 15)\n",
    "\n",
    "z = range(-1,5,1)\n",
    "plt.plot(z,z,linewidth = 0.5,color = \"k\")\n",
    "\n",
    "plt.rcParams['font.sans-serif'] = ['Times New Roman']\n",
    "plt.rcParams['axes.unicode_minus'] = False\n",
    "plt.xlabel('Measured ag440_CDOM(m$^{-1}$)',fontsize=15) \n",
    "plt.ylabel('Predicted ag440_CDOM(m$^{-1}$)',fontsize=15) \n",
    "\n",
    "plt.text(0,1.4,\"y = {k}x+{b}\".format(k = myCalK_CDOM,b = myCalIntercept_CDOM), fontproperties = 'Times New Roman',size = 15,\n",
    "         color = \"blue\",weight = \"light\") \n",
    "plt.text(0,1.32,\"y = {k}x+{b}\".format(k = myValK_CDOM,b = myValIntercept_CDOM),fontproperties = 'Times New Roman', size = 15,\n",
    "         color = \"green\",weight = \"light\")\n",
    "plt.text(0,1.22,\"$\\mathregular{R^2_{Calibration}}$ = %.2f\"%myCalR2_CDOM, fontproperties = 'Times New Roman',size = 15,\n",
    "         color = \"k\",weight = \"light\")\n",
    "plt.text(0,1.10,\"R$\\mathregular{^2_{Validation}}$ = %.2f\"%myValR2_CDOM, fontproperties = 'Times New Roman',size = 15,\n",
    "         color = \"k\",weight = \"light\")\n",
    "plt.text(0,1.00,\"RMSE = %.2f\"%myValRMSE_CDOM, fontproperties = 'Times New Roman',size = 15,color = \"k\",weight = \"light\")\n",
    "plt.text(0,0.92,\"MAE = %.2f\"%myValMAE_CDOM, fontproperties = 'Times New Roman',size = 15,color = \"k\",weight = \"light\")\n",
    "plt.text(0,0.84,\"RPD = %.2f\"%myValRPD_CDOM,fontproperties = 'Times New Roman', size = 15,color = \"k\",weight = \"light\")\n",
    "plt.text(0,0.76,\"N = {lenSamplingPointsNumCDOM}\".format(lenSamplingPointsNumCDOM = lenCalSampPointsNumCDOM+lenValSampPointsNumCDOM), \n",
    "         fontproperties = 'Times New Roman',size = 15,color = \"k\",weight = \"light\")\n",
    "\n",
    "plt.legend(loc = 4,fontsize = 15)\n",
    "\n",
    "plt.savefig(os.path.join(dir_write,'CDOM(88Points)XGBoost20240811(lr0.3,n_est50,max_dep6,min_child2,subsample0.75,colsample_bytree0.96,gamma0.03,alpha0.2,lambda2).jpg'),dpi=300,bbox_inches='tight')\n",
    "plt.show()"
   ]
  },
  {
   "cell_type": "code",
   "execution_count": null,
   "metadata": {},
   "outputs": [],
   "source": []
  }
 ],
 "metadata": {
  "kernelspec": {
   "display_name": "Python 3 (ipykernel)",
   "language": "python",
   "name": "python3"
  },
  "language_info": {
   "codemirror_mode": {
    "name": "ipython",
    "version": 3
   },
   "file_extension": ".py",
   "mimetype": "text/x-python",
   "name": "python",
   "nbconvert_exporter": "python",
   "pygments_lexer": "ipython3",
   "version": "3.9.12"
  },
  "nbTranslate": {
   "displayLangs": [
    "*"
   ],
   "hotkey": "alt-t",
   "langInMainMenu": true,
   "sourceLang": "en",
   "targetLang": "fr",
   "useGoogleTranslate": true
  },
  "toc": {
   "base_numbering": 1,
   "nav_menu": {},
   "number_sections": false,
   "sideBar": true,
   "skip_h1_title": false,
   "title_cell": "Table of Contents",
   "title_sidebar": "Contents",
   "toc_cell": false,
   "toc_position": {
    "height": "calc(100% - 180px)",
    "left": "10px",
    "top": "150px",
    "width": "384px"
   },
   "toc_section_display": true,
   "toc_window_display": true
  },
  "varInspector": {
   "cols": {
    "lenName": 16,
    "lenType": 16,
    "lenVar": 40
   },
   "kernels_config": {
    "python": {
     "delete_cmd_postfix": "",
     "delete_cmd_prefix": "del ",
     "library": "var_list.py",
     "varRefreshCmd": "print(var_dic_list())"
    },
    "r": {
     "delete_cmd_postfix": ") ",
     "delete_cmd_prefix": "rm(",
     "library": "var_list.r",
     "varRefreshCmd": "cat(var_dic_list()) "
    }
   },
   "types_to_exclude": [
    "module",
    "function",
    "builtin_function_or_method",
    "instance",
    "_Feature"
   ],
   "window_display": false
  }
 },
 "nbformat": 4,
 "nbformat_minor": 4
}

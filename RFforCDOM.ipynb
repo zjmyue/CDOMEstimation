{
 "cells": [
  {
   "cell_type": "markdown",
   "metadata": {},
   "source": [
    "# Import package library and global parameter settings"
   ]
  },
  {
   "cell_type": "code",
   "execution_count": 1,
   "metadata": {
    "ExecuteTime": {
     "end_time": "2021-09-26T02:15:50.142907Z",
     "start_time": "2021-09-26T02:15:48.164892Z"
    }
   },
   "outputs": [],
   "source": [
    "import os\n",
    "import pandas as pd\n",
    "import math\n",
    "import matplotlib.pyplot as plt\n",
    "import scipy.stats\n",
    "import warnings\n",
    "warnings.filterwarnings('ignore')"
   ]
  },
  {
   "cell_type": "code",
   "execution_count": 2,
   "metadata": {
    "ExecuteTime": {
     "end_time": "2021-09-26T02:15:50.568754Z",
     "start_time": "2021-09-26T02:15:50.175642Z"
    }
   },
   "outputs": [],
   "source": [
    "from sklearn.ensemble import RandomForestRegressor\n",
    "from sklearn.model_selection import KFold, train_test_split, GridSearchCV\n",
    "from  sklearn.preprocessing import StandardScaler"
   ]
  },
  {
   "cell_type": "code",
   "execution_count": 3,
   "metadata": {
    "ExecuteTime": {
     "end_time": "2021-09-26T02:15:50.615517Z",
     "start_time": "2021-09-26T02:15:50.601555Z"
    }
   },
   "outputs": [],
   "source": [
    "from sklearn.metrics import mean_squared_error \n",
    "from sklearn.metrics import mean_absolute_error \n",
    "from sklearn.metrics import r2_score  "
   ]
  },
  {
   "cell_type": "code",
   "execution_count": 4,
   "metadata": {
    "ExecuteTime": {
     "end_time": "2021-09-26T02:15:50.663417Z",
     "start_time": "2021-09-26T02:15:50.649427Z"
    }
   },
   "outputs": [],
   "source": [
    "plt.rcParams['font.sans-serif'] = ['Times New Roman']\n",
    "plt.rcParams['axes.unicode_minus'] = False"
   ]
  },
  {
   "cell_type": "code",
   "execution_count": 5,
   "metadata": {
    "ExecuteTime": {
     "end_time": "2021-09-26T02:15:50.710289Z",
     "start_time": "2021-09-26T02:15:50.698296Z"
    }
   },
   "outputs": [],
   "source": [
    "dir_open = r'D:\\DoctoralThesis\\CorrForScattAna'\n",
    "dir_write = dir_open"
   ]
  },
  {
   "cell_type": "code",
   "execution_count": 6,
   "metadata": {
    "ExecuteTime": {
     "end_time": "2021-09-26T02:19:13.328576Z",
     "start_time": "2021-09-26T02:19:13.098028Z"
    }
   },
   "outputs": [],
   "source": [
    "import seaborn as sns"
   ]
  },
  {
   "cell_type": "markdown",
   "metadata": {},
   "source": [
    "# 1 Reading in parameters and setting them"
   ]
  },
  {
   "cell_type": "code",
   "execution_count": 982,
   "metadata": {
    "ExecuteTime": {
     "end_time": "2021-09-26T07:21:44.381866Z",
     "start_time": "2021-09-26T07:21:44.311986Z"
    }
   },
   "outputs": [],
   "source": [
    "if __name__ == '__main__':\n",
    "    GDCalCDOM = pd.read_excel(os.path.join(dir_open,\"CDOM(88Points)MachineLearningModelCalibration.xlsx\"),sep=',',index_col ='Wavelength')\n",
    "    GDValCDOM = pd.read_excel(os.path.join(dir_open,\"CDOM(88Points)MachineLearningModelValidation.xlsx\"),sep=',',index_col ='Wavelength')\n",
    "    lenSelectedBandNumCDOM = len(GDCalCDOM.columns)-1\n",
    "    lenCalSampPointsNumCDOM = len(GDCalCDOM.index)\n",
    "    lenValSampPointsNumCDOM = len(GDValCDOM.index)\n",
    "    \n",
    "    cal_data_inputs_CDOM = np.array(GDCalCDOM.iloc[:,0:lenSelectedBandNumCDOM]).reshape(lenCalSampPointsNumCDOM,lenSelectedBandNumCDOM) \n",
    "    val_data_inputs_CDOM = np.array(GDValCDOM.iloc[:,0:lenSelectedBandNumCDOM]).reshape(lenValSampPointsNumCDOM,lenSelectedBandNumCDOM)\n",
    "    cal_data_outputs_CDOM = np.array(GDCalCDOM['CDOM']).reshape(lenCalSampPointsNumCDOM,1)\n",
    "    val_data_outputs_CDOM = np.array(GDValCDOM['CDOM']).reshape(lenValSampPointsNumCDOM,1)\n",
    "        \n",
    "    RFCDOMreg_params = {'n_estimators': 20, 'criterion': 'mse','max_depth': 2,'min_samples_split': 2,'min_samples_leaf': 1,\n",
    "                           'min_weight_fraction_leaf': 0,'max_features': 'auto','max_leaf_nodes': None,'min_impurity_decrease': 0,\n",
    "                           'min_impurity_split': 1e-7,'bootstrap': True,'oob_score': False,'random_state': 0, 'ccp_alpha': 0} \n",
    "\n",
    "    regCDOM = RandomForestRegressor(**RFCDOMreg_params)  "
   ]
  },
  {
   "cell_type": "markdown",
   "metadata": {},
   "source": [
    "# GridSearchCV"
   ]
  },
  {
   "cell_type": "code",
   "execution_count": null,
   "metadata": {},
   "outputs": [],
   "source": [
    "    cv_params = {'n_estimators': np.linspace(2,500,499,dtype=int)}\n",
    "\n",
    "    other_params = {'n_estimators': 60, 'criterion': 'mse','max_depth': 6,'min_samples_split': 2,'min_samples_leaf': 1,\n",
    "                    'min_weight_fraction_leaf': 0,'max_features': 'auto','max_leaf_nodes': None,'min_impurity_decrease': 0,\n",
    "                    'min_impurity_split': None,'bootstrap': True,'oob_score': True,'random_state': 0, 'ccp_alpha': 0} \n",
    "\n",
    "    model = RandomForestRegressor(**other_params)  \n",
    "    \n",
    "    optimized_GBM = GridSearchCV(estimator=model, param_grid=cv_params, scoring='neg_mean_absolute_error', refit = True, cv=5, verbose=1, n_jobs=4)\n",
    "    optimized_GBM.fit(cal_data_inputs_CDOM, cal_data_outputs_CDOM)\n",
    "\n",
    "    evalute_result = optimized_GBM.cv_results_\n",
    "    evalute_params = optimized_GBM.cv_results_['params']\n",
    "    \n",
    "    print('每轮迭代运行结果:{0}'.format(evalute_result))\n",
    "    print('参数的最佳取值：{0}'.format(optimized_GBM.best_params_))\n",
    "    print('最佳模型得分:{0}'.format(optimized_GBM.best_score_))"
   ]
  },
  {
   "cell_type": "markdown",
   "metadata": {},
   "source": [
    "# 2 Fit the model to the data set according to the parameters"
   ]
  },
  {
   "cell_type": "code",
   "execution_count": 983,
   "metadata": {
    "ExecuteTime": {
     "end_time": "2021-09-26T07:21:50.316681Z",
     "start_time": "2021-09-26T07:21:50.194009Z"
    }
   },
   "outputs": [
    {
     "name": "stdout",
     "output_type": "stream",
     "text": [
      "cal_data_outputs_pred_CDOM:\n",
      "[0.21023025 0.07828289 0.12656033 0.11304201 0.06374689 0.16440142\n",
      " 0.06477184 0.04085066 0.04319317 0.04808097 0.02019556 0.04386044\n",
      " 0.30983581 0.18954722 0.28012325 0.18766383 0.2846728  0.30376138\n",
      " 0.31103871 0.25494339 0.31709989 0.44001115 0.26347591 0.30876676\n",
      " 0.40225491 0.46870346 0.27578145 0.47796519 0.33347523 0.46888315\n",
      " 0.51574758 0.4883634  0.4962922  0.47723392 0.6115251  0.28485302\n",
      " 0.51063282 0.48727073 0.34548782 0.54418276 0.35547749 0.57858001\n",
      " 0.63724888 0.69567423 0.63785569 0.65826794 0.55771673 0.54371614\n",
      " 0.55029515 0.6728598  0.71806235 0.66075441 0.66932393 0.71646136\n",
      " 0.74183575 0.86792553 1.17511967 1.30789669 1.35051207]\n",
      "val_data_outputs_pred_CDOM:\n",
      "[0.16579255 0.21841825 0.1970508  0.06379108 0.28190454 0.22920012\n",
      " 0.2937441  0.50445395 0.28842236 0.25119504 0.28860357 0.38434295\n",
      " 0.34721725 0.4383078  0.48286869 0.53048274 0.28036974 0.29928248\n",
      " 0.53242145 0.54947052 0.21881355 0.31888353 0.58036771 0.73177108\n",
      " 0.56911815 0.65393839 0.6946778  1.30828595 1.31013211]\n",
      "0.9079846318786278\n",
      "0.7364230994151391\n"
     ]
    }
   ],
   "source": [
    "RFCDOMregmodel = regTSI.fit(cal_data_inputs_CDOM, cal_data_outputs_CDOM) \n",
    "cal_data_outputs_pred_CDOM = RFCDOMregmodel.predict(cal_data_inputs_CDOM) \n",
    "val_data_outputs_pred_CDOM = RFCDOMregmodel.predict(val_data_inputs_CDOM)\n",
    "print('cal_data_outputs_pred_CDOM:\\n{0}'.format(cal_data_outputs_pred_CDOM)) \n",
    "print('val_data_outputs_pred_CDOM:\\n{0}'.format(val_data_outputs_pred_CDOM)) \n",
    "print(RFCDOMregmodel.score(cal_data_inputs_CDOM, cal_data_outputs_CDOM))  \n",
    "print(RFCDOMregmodel.score(val_data_inputs_CDOM, val_data_outputs_CDOM))  "
   ]
  },
  {
   "cell_type": "markdown",
   "metadata": {},
   "source": [
    "# 3 Data fitting and prediction effect evaluation"
   ]
  },
  {
   "cell_type": "code",
   "execution_count": 984,
   "metadata": {
    "ExecuteTime": {
     "end_time": "2021-09-26T07:21:52.767276Z",
     "start_time": "2021-09-26T07:21:52.741374Z"
    }
   },
   "outputs": [
    {
     "name": "stdout",
     "output_type": "stream",
     "text": [
      "myCalR2_CDOM:\t0.9079846318786278\n",
      "myValR2_CDOM:\t0.7364230994151391\n",
      "myCalMSE_CDOM:\t0.010740497281878486\n",
      "myValMSE_CDOM:\t0.029575419524404904\n",
      "myCalRMSE_CDOM:\t0.10363637045882342\n",
      "myValRMSE_CDOM:\t0.1719750549481084\n",
      "myCalMAE_CDOM:\t0.0830450219665201\n",
      "myValMAE_CDOM:\t0.13013902043717537\n",
      "myCalRPD_CDOM:\t3.2966270362787014\n",
      "myValRPD_CDOM:\t1.9478088134855995\n"
     ]
    }
   ],
   "source": [
    "myCalR2_CDOM = r2_score(cal_data_outputs_CDOM,cal_data_outputs_pred_CDOM)\n",
    "print('myCalR2_CDOM:\\t{0}'.format(myCalR2_CDOM))\n",
    "myValR2_CDOM = r2_score(val_data_outputs_CDOM,val_data_outputs_pred_CDOM)\n",
    "print('myValR2_CDOM:\\t{0}'.format(myValR2_CDOM))\n",
    "\n",
    "myCalMSE_CDOM = mean_squared_error(cal_data_outputs_CDOM,cal_data_outputs_pred_CDOM)\n",
    "print('myCalMSE_CDOM:\\t{0}'.format(myCalMSE_CDOM)) \n",
    "myValMSE_CDOM = mean_squared_error(val_data_outputs_CDOM,val_data_outputs_pred_CDOM)\n",
    "print('myValMSE_CDOM:\\t{0}'.format(myValMSE_CDOM))\n",
    "\n",
    "myCalRMSE_CDOM = np.sqrt(mean_squared_error(cal_data_outputs_CDOM,cal_data_outputs_pred_CDOM))\n",
    "print('myCalRMSE_CDOM:\\t{0}'.format(myCalRMSE_CDOM))\n",
    "myValRMSE_CDOM = np.sqrt(mean_squared_error(val_data_outputs_CDOM,val_data_outputs_pred_CDOM))\n",
    "print('myValRMSE_CDOM:\\t{0}'.format(myValRMSE_CDOM)) \n",
    "\n",
    "myCalMAE_CDOM = mean_absolute_error(cal_data_outputs_CDOM,cal_data_outputs_pred_CDOM)\n",
    "print('myCalMAE_CDOM:\\t{0}'.format(myCalMAE_CDOM))\n",
    "myValMAE_CDOM = mean_absolute_error(val_data_outputs_CDOM,val_data_outputs_pred_CDOM)\n",
    "print('myValMAE_CDOM:\\t{0}'.format(myValMAE_CDOM)) \n",
    "\n",
    "myCalRPD_CDOM = cal_data_outputs_CDOM.std()/myCalRMSE_CDOM\n",
    "print('myCalRPD_CDOM:\\t{0}'.format(myCalRPD_CDOM))\n",
    "myValRPD_CDOM = val_data_outputs_CDOM.std()/myValRMSE_CDOM\n",
    "print('myValRPD_CDOM:\\t{0}'.format(myValRPD_CDOM))"
   ]
  },
  {
   "cell_type": "code",
   "execution_count": 985,
   "metadata": {
    "ExecuteTime": {
     "end_time": "2021-09-26T07:21:55.266682Z",
     "start_time": "2021-09-26T07:21:55.244710Z"
    }
   },
   "outputs": [
    {
     "name": "stdout",
     "output_type": "stream",
     "text": [
      "myCalK_CDOM:\t0.82\n",
      "myValK_CDOM:\t0.74\n",
      "myCalIntercept_CDOM:\t0.08\n",
      "myValIntercept_CDOM:\t0.12\n"
     ]
    }
   ],
   "source": [
    "from sklearn import linear_model\n",
    "\n",
    "regrCalCDOM = linear_model.LinearRegression()\n",
    "\n",
    "regrCalCDOM.fit(cal_data_outputs_CDOM.reshape(lenCalSampPointsNumCDOM,1),\n",
    "                   np.array(cal_data_outputs_pred_CDOM).reshape(lenCalSampPointsNumCDOM,1))\n",
    "\n",
    "regrValCDOM = linear_model.LinearRegression()\n",
    "regrValCDOM.fit(val_data_outputs_CDOM.reshape(lenValSampPointsNumCDOM,1),\n",
    "                   np.array(val_data_outputs_pred_CDOM).reshape(lenValSampPointsNumCDOM,1))\n",
    "\n",
    "myCalK_CDOM = \"%.2f\" %regrCalCDOM.coef_    \n",
    "myCalIntercept_CDOM = \"%.2f\" %regrCalCDOM.intercept_    \n",
    "myValK_CDOM = \"%.2f\" %regrValCDOM.coef_    \n",
    "myValIntercept_CDOM = \"%.2f\" %regrValCDOM.intercept_   \n",
    "\n",
    "print('myCalK_CDOM:\\t{0}'.format(myCalK_CDOM))\n",
    "print('myValK_CDOM:\\t{0}'.format(myValK_CDOM))\n",
    "print('myCalIntercept_CDOM:\\t{0}'.format(myCalIntercept_CDOM))\n",
    "print('myValIntercept_CDOM:\\t{0}'.format(myValIntercept_CDOM))"
   ]
  },
  {
   "cell_type": "markdown",
   "metadata": {},
   "source": [
    "# 4 Fitting result scatter plot output"
   ]
  },
  {
   "cell_type": "code",
   "execution_count": 981,
   "metadata": {
    "ExecuteTime": {
     "end_time": "2021-09-26T07:21:36.733051Z",
     "start_time": "2021-09-26T07:21:36.046861Z"
    }
   },
   "outputs": [
    {
     "data": {
      "image/png": "[encoded data removed]",
      "text/plain": [
       "<Figure size 432x432 with 1 Axes>"
      ]
     },
     "metadata": {},
     "output_type": "display_data"
    }
   ],
   "source": [
    "plt.figure(figsize=(6,6))\n",
    "sns.set_style(\"ticks\",{\"xtick.major.size\": 8, \"ytick.major.size\": 8}) \n",
    "\n",
    "sns.regplot(x=cal_data_outputs_CDOM,y=cal_data_outputs_pred_CDOM, marker= 'o',color='blue',scatter=True, fit_reg=True, \n",
    "            line_kws={'linestyle':'--','color':'blue'},  \n",
    "            label=\"Calibration\",truncate=True,ci=95)\n",
    "sns.regplot(x=val_data_outputs_CDOM,y=val_data_outputs_pred_CDOM, marker= 'v',color='green',\n",
    "            line_kws={'linestyle':'--','color':'green'}, \n",
    "            label=\"Validation\",truncate=True,ci=95)\n",
    "\n",
    "plt.xlim((-0.07,1.5))\n",
    "plt.ylim((-0.07,1.5))\n",
    "plt.xticks(fontproperties = 'Times New Roman',fontsize = 15)\n",
    "plt.yticks(fontproperties = 'Times New Roman',fontsize = 15)\n",
    "\n",
    "z = range(-1,5,1)\n",
    "plt.plot(z,z,linewidth = 0.5,color = \"k\")\n",
    "\n",
    "plt.rcParams['font.sans-serif'] = ['Times New Roman']\n",
    "plt.rcParams['axes.unicode_minus'] = False\n",
    "plt.xlabel('Measured ag440_CDOM(m$^{-1}$)',fontsize=15) \n",
    "plt.ylabel('Predicted ag440_CDOM(m$^{-1}$)',fontsize=15) \n",
    "\n",
    "plt.text(0,1.4,\"y = {k}x+{b}\".format(k = myCalK_CDOM,b = myCalIntercept_CDOM), fontproperties = 'Times New Roman',size = 15,\n",
    "         color = \"blue\",weight = \"light\") \n",
    "plt.text(0,1.32,\"y = {k}x+{b}\".format(k = myValK_CDOM,b = myValIntercept_CDOM),fontproperties = 'Times New Roman', size = 15,\n",
    "         color = \"green\",weight = \"light\")\n",
    "plt.text(0,1.22,\"$\\mathregular{R^2}$ = %.2f\"%myCalR2_CDOM, fontproperties = 'Times New Roman',size = 15,\n",
    "         color = \"k\",weight = \"light\")\n",
    "plt.text(0,1.14,\"RMSE = %.2f\"%myValRMSE_CDOM, fontproperties = 'Times New Roman',size = 15,color = \"k\",weight = \"light\")\n",
    "plt.text(0,1.06,\"MAE = %.2f\"%myValMAE_CDOM, fontproperties = 'Times New Roman',size = 15,color = \"k\",weight = \"light\")\n",
    "plt.text(0,0.98,\"RPD = %.2f\"%myValRPD_CDOM,fontproperties = 'Times New Roman', size = 15,color = \"k\",weight = \"light\")\n",
    "plt.text(0,0.9,\"N = {lenSamplingPointsNumCDOM}\".format(lenSamplingPointsNumCDOM = lenCalSampPointsNumCDOM+lenValSampPointsNumCDOM), \n",
    "         fontproperties = 'Times New Roman',size = 15,color = \"k\",weight = \"light\")\n",
    "\n",
    "plt.legend(loc = 4,fontsize = 15)\n",
    "\n",
    "plt.savefig(os.path.join(dir_write,'CDOM(88Points)RF20240811(n_est20,mse,max_dep10,min_samp_sp2,min_samp_le1,min_wei_fra0,min_imp_sp1e-7,ccp_alpha0).jpg'),dpi=300,bbox_inches='tight')\n",
    "plt.show()"
   ]
  },
  {
   "cell_type": "code",
   "execution_count": null,
   "metadata": {},
   "outputs": [],
   "source": []
  },
  {
   "cell_type": "code",
   "execution_count": null,
   "metadata": {},
   "outputs": [],
   "source": []
  }
 ],
 "metadata": {
  "kernelspec": {
   "display_name": "Python 3 (ipykernel)",
   "language": "python",
   "name": "python3"
  },
  "language_info": {
   "codemirror_mode": {
    "name": "ipython",
    "version": 3
   },
   "file_extension": ".py",
   "mimetype": "text/x-python",
   "name": "python",
   "nbconvert_exporter": "python",
   "pygments_lexer": "ipython3",
   "version": "3.9.12"
  },
  "nbTranslate": {
   "displayLangs": [
    "*"
   ],
   "hotkey": "alt-t",
   "langInMainMenu": true,
   "sourceLang": "en",
   "targetLang": "fr",
   "useGoogleTranslate": true
  },
  "toc": {
   "base_numbering": 1,
   "nav_menu": {},
   "number_sections": false,
   "sideBar": true,
   "skip_h1_title": false,
   "title_cell": "Table of Contents",
   "title_sidebar": "Contents",
   "toc_cell": false,
   "toc_position": {
    "height": "calc(100% - 180px)",
    "left": "10px",
    "top": "150px",
    "width": "384px"
   },
   "toc_section_display": true,
   "toc_window_display": true
  },
  "varInspector": {
   "cols": {
    "lenName": 16,
    "lenType": 16,
    "lenVar": 40
   },
   "kernels_config": {
    "python": {
     "delete_cmd_postfix": "",
     "delete_cmd_prefix": "del ",
     "library": "var_list.py",
     "varRefreshCmd": "print(var_dic_list())"
    },
    "r": {
     "delete_cmd_postfix": ") ",
     "delete_cmd_prefix": "rm(",
     "library": "var_list.r",
     "varRefreshCmd": "cat(var_dic_list()) "
    }
   },
   "types_to_exclude": [
    "module",
    "function",
    "builtin_function_or_method",
    "instance",
    "_Feature"
   ],
   "window_display": false
  }
 },
 "nbformat": 4,
 "nbformat_minor": 4
}
